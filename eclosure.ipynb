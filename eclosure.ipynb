{
 "cells": [
  {
   "cell_type": "code",
   "execution_count": 324,
   "metadata": {},
   "outputs": [],
   "source": [
    "class Node(object):\n",
    "    check = []\n",
    "    def __init__(self,name):\n",
    "        #self.check = []\n",
    "        self.id = name\n",
    "        self.states = []\n",
    "        self.tostates = []\n",
    "        self.elements = []\n",
    "        self.hasepsilon = False\n",
    "    def epsilonclosure(self,Nodee):\n",
    "        self.check.append(self.id)\n",
    "        if self.hasepsilon:\n",
    "            nextstate = [it for it in self.tostates if it[0] == 0]\n",
    "            for item in nextstate:\n",
    "                for i in range(1,len(item)):\n",
    "                    if int(item[i].id) not in Node.check:\n",
    "                        Nodee.states[int(item[i].id) - 1].epsilonclosure(Nodee)\n",
    " "
   ]
  },
  {
   "cell_type": "code",
   "execution_count": 325,
   "metadata": {},
   "outputs": [],
   "source": [
    "def create_states(zero, no_states, start_state, elem_list):\n",
    "    for i in range(no_states):\n",
    "        new = Node(i+start_state)\n",
    "        zero.states.append(new)\n",
    "    for i in elem_list:\n",
    "        zero.elements.append(i)"
   ]
  },
  {
   "cell_type": "code",
   "execution_count": 326,
   "metadata": {},
   "outputs": [],
   "source": [
    "def find_state(zero,stid):\n",
    "    for i in zero.states:\n",
    "        if i.id == stid:\n",
    "            return i"
   ]
  },
  {
   "cell_type": "code",
   "execution_count": 327,
   "metadata": {},
   "outputs": [],
   "source": [
    "def addStates(zero,frm,inp,to):\n",
    "    for i in zero.states:\n",
    "        if i.id == frm:\n",
    "            if inp == 0:\n",
    "                i.hasepsilon = True\n",
    "            i.tostates.append((inp,find_state(zero,to)))\n",
    "            print(\"transition created from\",frm,\"to\",to)\n",
    "    "
   ]
  },
  {
   "cell_type": "code",
   "execution_count": 328,
   "metadata": {},
   "outputs": [],
   "source": [
    "import pandas as pd\n",
    "z = Node(\"one\")"
   ]
  },
  {
   "cell_type": "code",
   "execution_count": 329,
   "metadata": {},
   "outputs": [
    {
     "name": "stdout",
     "output_type": "stream",
     "text": [
      "transition created from 1 to 2\n",
      "transition created from 1 to 8\n",
      "transition created from 2 to 3\n",
      "transition created from 2 to 5\n",
      "transition created from 3 to 4\n",
      "transition created from 5 to 6\n",
      "transition created from 4 to 7\n",
      "transition created from 6 to 7\n",
      "transition created from 7 to 2\n",
      "transition created from 7 to 8\n",
      "transition created from 8 to 9\n",
      "transition created from 9 to 10\n",
      "transition created from 9 to 12\n",
      "transition created from 10 to 11\n",
      "transition created from 12 to 13\n",
      "transition created from 11 to 14\n",
      "transition created from 13 to 14\n",
      "transition created from 14 to 15\n",
      "transition created from 15 to 16\n",
      "transition created from 15 to 18\n",
      "transition created from 16 to 17\n",
      "transition created from 18 to 19\n",
      "transition created from 17 to 20\n",
      "transition created from 19 to 20\n",
      "e closure\n",
      "1 [1, 2, 3, 5, 8]\n",
      "2 [2, 3, 5]\n",
      "3 [3]\n",
      "4 [4, 7, 2, 3, 5, 8]\n",
      "5 [5]\n",
      "6 [6, 7, 2, 3, 5, 8]\n",
      "7 [7, 2, 3, 5, 8]\n",
      "8 [8]\n",
      "9 [9, 10, 12]\n",
      "10 [10]\n",
      "11 [11, 14, 15, 16, 18]\n",
      "12 [12]\n",
      "13 [13, 14, 15, 16, 18]\n",
      "14 [14, 15, 16, 18]\n",
      "15 [15, 16, 18]\n",
      "16 [16]\n",
      "17 [17, 20]\n",
      "18 [18]\n",
      "19 [19, 20]\n",
      "20 [20]\n",
      "21 [21]\n"
     ]
    }
   ],
   "source": [
    "with open(\"input.txt\" , \"rb\") as inp:\n",
    "    inputdf = pd.read_csv(inp)\n",
    "no_states = inputdf['to'][0]\n",
    "frm_no = inputdf['from'][0]\n",
    "create_states(z,no_states ,frm_no,[1,2,0])\n",
    "for i in range(1,inputdf.count()['from'] - 1):\n",
    "    addStates(z,inputdf['from'][i],inputdf['inp'][i],inputdf['to'][i])\n",
    "print(\"e closure\")\n",
    "Node.check= []\n",
    "for i in z.states:\n",
    "    i.epsilonclosure(z)\n",
    "    print(i.id,i.check)\n",
    "    Node.check= []"
   ]
  },
  {
   "cell_type": "code",
   "execution_count": null,
   "metadata": {},
   "outputs": [],
   "source": []
  }
 ],
 "metadata": {
  "kernelspec": {
   "display_name": "Python 3",
   "language": "python",
   "name": "python3"
  },
  "language_info": {
   "codemirror_mode": {
    "name": "ipython",
    "version": 3
   },
   "file_extension": ".py",
   "mimetype": "text/x-python",
   "name": "python",
   "nbconvert_exporter": "python",
   "pygments_lexer": "ipython3",
   "version": "3.6.3"
  }
 },
 "nbformat": 4,
 "nbformat_minor": 2
}
