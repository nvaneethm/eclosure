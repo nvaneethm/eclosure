{
 "cells": [
  {
   "cell_type": "code",
   "execution_count": 6,
   "metadata": {},
   "outputs": [],
   "source": [
    "class State(object):\n",
    "    def __init__(self, char):\n",
    "        self.snum = char\n",
    "        self.toStates = []\n",
    "        self.fromStates = []\n",
    "        self.hasepsilon = False"
   ]
  },
  {
   "cell_type": "code",
   "execution_count": null,
   "metadata": {},
   "outputs": [],
   "source": []
  },
  {
   "cell_type": "code",
   "execution_count": 7,
   "metadata": {},
   "outputs": [],
   "source": [
    "def createStates(num,j):\n",
    "    for i in range(num):\n",
    "        new = State(i+j)\n",
    "        states.append(new)\n",
    "        print(\"state created\",new.snum)\n"
   ]
  },
  {
   "cell_type": "code",
   "execution_count": 8,
   "metadata": {},
   "outputs": [],
   "source": [
    "def findState(num):\n",
    "    for i in states:\n",
    "        if i.snum == num:\n",
    "            return i"
   ]
  },
  {
   "cell_type": "code",
   "execution_count": 9,
   "metadata": {},
   "outputs": [],
   "source": [
    "def addState(frm , inp , to):\n",
    "    tostate = findState(to)\n",
    "    for z in states:\n",
    "        #print(z.snum)\n",
    "        if z.snum == frm:\n",
    "            z.toStates.append((inp,tostate))\n",
    "            if inp == 0:\n",
    "                z.hasepsilon = True\n",
    "            print(\"state\",frm,\"to\",tostate.snum,\"for input\",inp )\n",
    "            #print(state.snum)"
   ]
  },
  {
   "cell_type": "code",
   "execution_count": 10,
   "metadata": {},
   "outputs": [],
   "source": [
    "#testfuntion aan verte\n",
    "def epsilon():\n",
    "    p = {}\n",
    "    for state in states:\n",
    "        k = [state.snum]\n",
    "        for i in state.toStates:\n",
    "            if i[0] == 0:\n",
    "                k.append(i[1])\n",
    "        p[k[0]] = k\n",
    "    print(p,\"\\n\")\n",
    "    return p"
   ]
  },
  {
   "cell_type": "code",
   "execution_count": 11,
   "metadata": {},
   "outputs": [],
   "source": [
    "#ithaan sambavam\n",
    "nn = []\n",
    "def epsilon1(state):\n",
    "    p = {}\n",
    "    #for state in states:\n",
    "    k = [state.snum]\n",
    "    #print(\"nn\",nn)\n",
    "    for i in state.toStates:\n",
    "        if i[0] == 0:\n",
    "            k.append(i[1])\n",
    "            nn.append(i[1].snum)\n",
    "            #print(\"nn\",nn)\n",
    "            try:\n",
    "                epsilon1(i[1])\n",
    "            except:\n",
    "                print(\"k\")\n",
    "            #print(\"nn\",nn)\n",
    "    p[k[0]] = k\n",
    "    \n",
    "    #print(p,\"\\n\")\n",
    "    "
   ]
  },
  {
   "cell_type": "code",
   "execution_count": 12,
   "metadata": {},
   "outputs": [
    {
     "name": "stdout",
     "output_type": "stream",
     "text": [
      "state created 0\n",
      "state created 1\n",
      "state created 2\n",
      "state created 3\n",
      "state 0 to 1 for input 1\n",
      "state 1 to 2 for input 2\n",
      "state 0 to 3 for input 0\n",
      "state 3 to 2 for input 0\n",
      "state 0 to 2 for input 2\n"
     ]
    }
   ],
   "source": [
    "nn = []\n",
    "states = []\n",
    "createStates(4,0)\n",
    "addState(0,1,1)\n",
    "addState(1,2,2)\n",
    "addState(0,0,3)\n",
    "addState(3,0,2)\n",
    "addState(0,2,2)\n"
   ]
  },
  {
   "cell_type": "code",
   "execution_count": 13,
   "metadata": {},
   "outputs": [],
   "source": [
    "a = {}\n",
    "for state in states:\n",
    "    nn = []\n",
    "    nn = [state.snum]\n",
    "    epsilon1(state)\n",
    "    a[state.snum] = nn"
   ]
  },
  {
   "cell_type": "code",
   "execution_count": 14,
   "metadata": {},
   "outputs": [
    {
     "data": {
      "text/plain": [
       "{0: [0, 3, 2], 1: [1], 2: [2], 3: [3, 2]}"
      ]
     },
     "execution_count": 14,
     "metadata": {},
     "output_type": "execute_result"
    }
   ],
   "source": [
    "a"
   ]
  },
  {
   "cell_type": "code",
   "execution_count": 15,
   "metadata": {},
   "outputs": [
    {
     "name": "stdout",
     "output_type": "stream",
     "text": [
      "state created 1\n",
      "state created 2\n",
      "state created 3\n",
      "state created 4\n",
      "state created 5\n",
      "state created 6\n",
      "state created 7\n",
      "state created 8\n",
      "state created 9\n",
      "state created 10\n",
      "state created 11\n",
      "state created 12\n",
      "state created 13\n",
      "state created 14\n",
      "state created 15\n",
      "state created 16\n",
      "state created 17\n",
      "state created 18\n",
      "state created 19\n",
      "state created 20\n",
      "state created 21\n"
     ]
    }
   ],
   "source": [
    "nn = []\n",
    "states = []\n",
    "createStates(21,1)"
   ]
  },
  {
   "cell_type": "code",
   "execution_count": 16,
   "metadata": {},
   "outputs": [
    {
     "name": "stdout",
     "output_type": "stream",
     "text": [
      "state 1 to 2 for input 0\n",
      "state 1 to 8 for input 0\n",
      "state 2 to 3 for input 0\n",
      "state 2 to 5 for input 0\n",
      "state 3 to 4 for input 1\n",
      "state 5 to 6 for input 2\n",
      "state 4 to 7 for input 0\n",
      "state 6 to 7 for input 0\n",
      "state 7 to 2 for input 0\n",
      "state 7 to 8 for input 0\n",
      "state 8 to 9 for input 1\n",
      "state 9 to 10 for input 0\n",
      "state 9 to 12 for input 0\n",
      "state 10 to 11 for input 1\n",
      "state 12 to 13 for input 2\n",
      "state 11 to 14 for input 0\n",
      "state 13 to 14 for input 0\n",
      "state 14 to 15 for input 0\n",
      "state 15 to 16 for input 0\n",
      "state 15 to 18 for input 0\n",
      "state 16 to 17 for input 1\n",
      "state 18 to 19 for input 2\n",
      "state 17 to 20 for input 0\n",
      "state 19 to 20 for input 0\n",
      "state 20 to 21 for input 0\n"
     ]
    }
   ],
   "source": [
    "addState(1,0,2)\n",
    "addState(1,0,8)\n",
    "addState(2,0,3)\n",
    "addState(2,0,5)\n",
    "addState(3,1,4)\n",
    "addState(5,2,6)\n",
    "addState(4,0,7)\n",
    "addState(6,0,7)\n",
    "addState(7,0,2)\n",
    "addState(7,0,8)\n",
    "addState(8,1,9)\n",
    "addState(9,0,10)\n",
    "addState(9,0,12)\n",
    "addState(10,1,11)\n",
    "addState(12,2,13)\n",
    "addState(11,0,14)\n",
    "addState(13,0,14)\n",
    "addState(14,0,15)\n",
    "addState(15,0,16)\n",
    "addState(15,0,18)\n",
    "addState(16,1,17)\n",
    "addState(18,2,19)\n",
    "addState(17,0,20)\n",
    "addState(19,0,20)\n",
    "addState(20,0,21)"
   ]
  },
  {
   "cell_type": "code",
   "execution_count": 17,
   "metadata": {},
   "outputs": [],
   "source": [
    "a = {}\n",
    "for state in states:\n",
    "    nn = []\n",
    "    nn = [state.snum]\n",
    "    epsilon1(state)\n",
    "    a[state.snum] = nn"
   ]
  },
  {
   "cell_type": "code",
   "execution_count": 18,
   "metadata": {},
   "outputs": [
    {
     "data": {
      "text/plain": [
       "{1: [1, 2, 3, 5, 8],\n",
       " 2: [2, 3, 5],\n",
       " 3: [3],\n",
       " 4: [4, 7, 2, 3, 5, 8],\n",
       " 5: [5],\n",
       " 6: [6, 7, 2, 3, 5, 8],\n",
       " 7: [7, 2, 3, 5, 8],\n",
       " 8: [8],\n",
       " 9: [9, 10, 12],\n",
       " 10: [10],\n",
       " 11: [11, 14, 15, 16, 18],\n",
       " 12: [12],\n",
       " 13: [13, 14, 15, 16, 18],\n",
       " 14: [14, 15, 16, 18],\n",
       " 15: [15, 16, 18],\n",
       " 16: [16],\n",
       " 17: [17, 20, 21],\n",
       " 18: [18],\n",
       " 19: [19, 20, 21],\n",
       " 20: [20, 21],\n",
       " 21: [21]}"
      ]
     },
     "execution_count": 18,
     "metadata": {},
     "output_type": "execute_result"
    }
   ],
   "source": [
    "a"
   ]
  },
  {
   "cell_type": "code",
   "execution_count": 19,
   "metadata": {},
   "outputs": [
    {
     "name": "stdout",
     "output_type": "stream",
     "text": [
      "state created 1\n",
      "state created 2\n",
      "state created 3\n",
      "state created 4\n",
      "state created 5\n",
      "state created 6\n",
      "state created 7\n",
      "state created 8\n",
      "state created 9\n",
      "state created 10\n",
      "state created 11\n",
      "state created 12\n",
      "state created 13\n",
      "state created 14\n",
      "state created 15\n",
      "state created 16\n",
      "state created 17\n",
      "state created 18\n",
      "state created 19\n",
      "state created 20\n",
      "state created 21\n",
      "state created 22\n"
     ]
    }
   ],
   "source": [
    "nn = []\n",
    "states = []\n",
    "createStates(22,1)"
   ]
  },
  {
   "cell_type": "code",
   "execution_count": 20,
   "metadata": {},
   "outputs": [
    {
     "name": "stdout",
     "output_type": "stream",
     "text": [
      "state 1 to 2 for input 0\n",
      "state 2 to 3 for input 0\n",
      "state 2 to 5 for input 0\n",
      "state 3 to 4 for input 1\n",
      "state 5 to 6 for input 2\n",
      "state 4 to 7 for input 0\n",
      "state 6 to 7 for input 0\n",
      "state 7 to 8 for input 0\n",
      "state 8 to 9 for input 0\n",
      "state 8 to 11 for input 0\n",
      "state 9 to 10 for input 1\n",
      "state 11 to 12 for input 2\n",
      "state 10 to 13 for input 0\n",
      "state 12 to 13 for input 0\n",
      "state 13 to 14 for input 0\n",
      "state 14 to 15 for input 1\n",
      "state 15 to 16 for input 0\n",
      "state 15 to 22 for input 0\n",
      "state 16 to 17 for input 0\n",
      "state 16 to 19 for input 0\n",
      "state 17 to 18 for input 1\n",
      "state 19 to 20 for input 2\n",
      "state 18 to 21 for input 0\n",
      "state 20 to 21 for input 0\n",
      "state 21 to 22 for input 0\n",
      "state 21 to 16 for input 0\n"
     ]
    }
   ],
   "source": [
    "addState(1,0,2)\n",
    "addState(2,0,3)\n",
    "addState(2,0,5)\n",
    "addState(3,1,4)\n",
    "addState(5,2,6)\n",
    "addState(4,0,7)\n",
    "addState(6,0,7)\n",
    "addState(7,0,8)\n",
    "addState(8,0,9)\n",
    "addState(8,0,11)\n",
    "addState(9,1,10)\n",
    "addState(11,2,12)\n",
    "addState(10,0,13)\n",
    "addState(12,0,13)\n",
    "addState(13,0,14)\n",
    "addState(14,1,15)\n",
    "addState(15,0,16)\n",
    "addState(15,0,22)\n",
    "addState(16,0,17)\n",
    "addState(16,0,19)\n",
    "addState(17,1,18)\n",
    "addState(19,2,20)\n",
    "addState(18,0,21)\n",
    "addState(20,0,21)\n",
    "addState(21,0,22)\n",
    "addState(21,0,16)\n"
   ]
  },
  {
   "cell_type": "code",
   "execution_count": 21,
   "metadata": {},
   "outputs": [],
   "source": [
    "a = {}\n",
    "for state in states:\n",
    "    nn = []\n",
    "    nn = [state.snum]\n",
    "    epsilon1(state)\n",
    "    a[state.snum] = nn"
   ]
  },
  {
   "cell_type": "code",
   "execution_count": 22,
   "metadata": {},
   "outputs": [
    {
     "data": {
      "text/plain": [
       "{1: [1, 2, 3, 5],\n",
       " 2: [2, 3, 5],\n",
       " 3: [3],\n",
       " 4: [4, 7, 8, 9, 11],\n",
       " 5: [5],\n",
       " 6: [6, 7, 8, 9, 11],\n",
       " 7: [7, 8, 9, 11],\n",
       " 8: [8, 9, 11],\n",
       " 9: [9],\n",
       " 10: [10, 13, 14],\n",
       " 11: [11],\n",
       " 12: [12, 13, 14],\n",
       " 13: [13, 14],\n",
       " 14: [14],\n",
       " 15: [15, 16, 17, 19, 22],\n",
       " 16: [16, 17, 19],\n",
       " 17: [17],\n",
       " 18: [18, 21, 22, 16, 17, 19],\n",
       " 19: [19],\n",
       " 20: [20, 21, 22, 16, 17, 19],\n",
       " 21: [21, 22, 16, 17, 19],\n",
       " 22: [22]}"
      ]
     },
     "execution_count": 22,
     "metadata": {},
     "output_type": "execute_result"
    }
   ],
   "source": [
    "a"
   ]
  },
  {
   "cell_type": "code",
   "execution_count": null,
   "metadata": {},
   "outputs": [],
   "source": []
  },
  {
   "cell_type": "code",
   "execution_count": null,
   "metadata": {},
   "outputs": [],
   "source": []
  }
 ],
 "metadata": {
  "kernelspec": {
   "display_name": "Python 3",
   "language": "python",
   "name": "python3"
  },
  "language_info": {
   "codemirror_mode": {
    "name": "ipython",
    "version": 3
   },
   "file_extension": ".py",
   "mimetype": "text/x-python",
   "name": "python",
   "nbconvert_exporter": "python",
   "pygments_lexer": "ipython3",
   "version": "3.6.3"
  }
 },
 "nbformat": 4,
 "nbformat_minor": 2
}
